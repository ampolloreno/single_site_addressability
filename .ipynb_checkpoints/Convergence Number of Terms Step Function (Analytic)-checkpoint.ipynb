{
 "cells": [
  {
   "cell_type": "code",
   "execution_count": 1,
   "metadata": {},
   "outputs": [
    {
     "data": {
      "text/plain": [
       "R (generic function with 1 method)"
      ]
     },
     "execution_count": 1,
     "metadata": {},
     "output_type": "execute_result"
    }
   ],
   "source": [
    "function Z(n::Int64, m::Int64)\n",
    "    \"\"\"In John's notes he includes a normalization, we have omitted that and are just following the conventions\n",
    "    on Wikipedia.\"\"\"\n",
    "    function Z_at_point(ρ::Float64, ϕ::Float64)\n",
    "        if m >= 0\n",
    "            R(n, m, ρ) * cos(m * ϕ)\n",
    "        else\n",
    "            R(n, -m, ρ) * sin(-m * ϕ)\n",
    "        end\n",
    "    end\n",
    "    Z_at_point\n",
    "end\n",
    "function plot_across_disk(f, discretization::Int64, radius::Float64)\n",
    "    x = y = Array(range(-radius, radius, length=discretization))\n",
    "    z = Array{typeof(f(0.,0.))}(UndefInitializer(), length(x), length(y))\n",
    "    for (i, xx) in enumerate(x)\n",
    "        for (j, yy) in enumerate(y)\n",
    "            if xx^2 + yy^2 > radius^2\n",
    "                if typeof(f(0.,0.)) == Tuple{Float64,Float64}\n",
    "                    z[i, j] = (0.,0.)\n",
    "                else\n",
    "                    z[i, j] = 0.\n",
    "                end\n",
    "            else\n",
    "                ρ = sqrt(xx^2 + yy^2)\n",
    "                ϕ = atan(yy, xx)\n",
    "                res = f(ρ, ϕ)\n",
    "                z[i, j] = res\n",
    "            end\n",
    "        end\n",
    "    end\n",
    "    x, y, z\n",
    "end\n",
    "\n",
    "function R(n::Int64, m::Int64, ρ::Float64)\n",
    "    if (n - m) % 2 != 0\n",
    "        0\n",
    "    else\n",
    "        function summand(k)\n",
    "            n = big(n)\n",
    "            k = big(k)\n",
    "            (-1)^k * factorial(n-k)/(factorial(k)*factorial(Int((n+m)/2) - k)*factorial(Int((n-m)/2) - k))*(ρ)^(n-2*k)\n",
    "        end\n",
    "        mapreduce(summand, +, Array(range(0, stop=Int((n-m)/2), step=1)))\n",
    "    end\n",
    "end"
   ]
  },
  {
   "cell_type": "code",
   "execution_count": 2,
   "metadata": {},
   "outputs": [
    {
     "data": {
      "text/plain": [
       "total_integral (generic function with 1 method)"
      ]
     },
     "execution_count": 2,
     "metadata": {},
     "output_type": "execute_result"
    }
   ],
   "source": [
    "function radial_integral(n, m)\n",
    "    if (n - m) % 2 != 0\n",
    "        0\n",
    "    else\n",
    "        function summand(k)\n",
    "            n = big(n)\n",
    "            k = big(k)\n",
    "            (-1)^k * factorial(n-k)/(factorial(k)*factorial(Int((n+m)/2) - k)*factorial(Int((n-m)/2) - k)) * 1/(n-2*k+2)\n",
    "        end\n",
    "        mapreduce(summand, +, Array(range(0, stop=Int((n-m)/2), step=1)))\n",
    "    end\n",
    "end\n",
    "function angular_integral(n, m)\n",
    "    if m >= 0 && m % 2 == 0\n",
    "        0\n",
    "    elseif m >=0 && m % 2 == 1\n",
    "        4 * sin(π/2 * m) / m\n",
    "    elseif m < 0 && m % 2 == -1\n",
    "        0\n",
    "    else \n",
    "        0\n",
    "    end\n",
    "end\n",
    "\n",
    "function total_integral(n, m)\n",
    "    angular_integral(n, m) * radial_integral(n, abs(m))\n",
    "end"
   ]
  },
  {
   "cell_type": "code",
   "execution_count": 3,
   "metadata": {},
   "outputs": [
    {
     "data": {
      "text/plain": [
       "reconstruct_step (generic function with 1 method)"
      ]
     },
     "execution_count": 3,
     "metadata": {},
     "output_type": "execute_result"
    }
   ],
   "source": [
    "using Plots\n",
    "\n",
    "function reconstruct_step(max_n, radius, discretization)\n",
    "    xx, yy, total = plot_across_disk((ρ, ϕ) -> 0., discretization, radius)\n",
    "    for n in range(0, max_n, step=1)\n",
    "        for m in range(-n, n, step=1)\n",
    "            if m == 0\n",
    "                scalar = 2\n",
    "            else\n",
    "                scalar = 1\n",
    "            end\n",
    "            total += plot_across_disk(Z(n, m), discretization, radius)[3] * total_integral(n, m) * (2*n + 2) / π /scalar\n",
    "        end\n",
    "    end\n",
    "    xx, yy, total\n",
    "end"
   ]
  },
  {
   "cell_type": "code",
   "execution_count": null,
   "metadata": {},
   "outputs": [],
   "source": [
    "heatmap(reconstruct_step(10, 1., 20), xlabel=\"x\", ylabel=\"y\", title=\"Reconstruction of a Step Function for n<=10\")"
   ]
  },
  {
   "cell_type": "code",
   "execution_count": null,
   "metadata": {},
   "outputs": [],
   "source": [
    "discretization = 40\n",
    "function step_func(x)\n",
    "    if x > 0\n",
    "        1\n",
    "    else\n",
    "        -1\n",
    "    end\n",
    "end\n",
    "xs = collect(range(-1, 1, length=discretization))\n",
    "ys = [step_func(x) for x in xs]\n",
    "n5 = reconstruct_step(5, radius, discretization)[3][:, Int(discretization/2)]\n",
    "n10 = reconstruct_step(10, radius, discretization)[3][:, Int(discretization/2)]\n",
    "n20 = reconstruct_step(20, radius, discretization)[3][:, Int(discretization/2)]\n",
    "plot(xs, [ys, n5, n10, n20], labels=[\"Actual\" \"n=5\" \"n=10\" \"n=15\"], xlabel=\"y\", title=\"Reconstruction of step function, 1D slice down the middle.\")"
   ]
  },
  {
   "cell_type": "code",
   "execution_count": null,
   "metadata": {},
   "outputs": [],
   "source": []
  }
 ],
 "metadata": {
  "kernelspec": {
   "display_name": "Julia 1.5.1",
   "language": "julia",
   "name": "julia-1.5"
  },
  "language_info": {
   "file_extension": ".jl",
   "mimetype": "application/julia",
   "name": "julia",
   "version": "1.5.1"
  }
 },
 "nbformat": 4,
 "nbformat_minor": 4
}
