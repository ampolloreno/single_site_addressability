{
 "cells": [
  {
   "cell_type": "code",
   "execution_count": 1,
   "metadata": {},
   "outputs": [],
   "source": [
    "using Cubature"
   ]
  },
  {
   "cell_type": "code",
   "execution_count": 2,
   "metadata": {},
   "outputs": [
    {
     "data": {
      "text/plain": [
       "Z (generic function with 1 method)"
      ]
     },
     "execution_count": 2,
     "metadata": {},
     "output_type": "execute_result"
    }
   ],
   "source": [
    "function R(n::Int64, m::Int64, ρ::Float64)\n",
    "    if (n - m) % 2 != 0\n",
    "        0\n",
    "    else\n",
    "        function summand(k)\n",
    "            n = big(n)\n",
    "            k = big(k)\n",
    "            (-1)^k * factorial(n-k)/(factorial(k)*factorial(Int((n+m)/2) - k)*factorial(Int((n-m)/2) - k))*(ρ)^(n-2*k)\n",
    "        end\n",
    "        mapreduce(summand, +, Array(range(0, stop=Int((n-m)/2), step=1)))\n",
    "    end\n",
    "end\n",
    "\n",
    "function Z(n, m, ρ, θ)\n",
    "    if m < 0\n",
    "        R(n, abs(m), ρ) * sin(abs(m) * θ)\n",
    "    else\n",
    "        R(n, m, ρ) * cos(m * θ)\n",
    "    end\n",
    "end"
   ]
  },
  {
   "cell_type": "code",
   "execution_count": 19,
   "metadata": {},
   "outputs": [
    {
     "data": {
      "text/plain": [
       "integrand (generic function with 1 method)"
      ]
     },
     "execution_count": 19,
     "metadata": {},
     "output_type": "execute_result"
    }
   ],
   "source": [
    "σ1 = .1\n",
    "σ2 = .1\n",
    "displacement = .25\n",
    "function integrand(n, m)\n",
    "    function rtn(coor)\n",
    "        ρ = coor[1]\n",
    "        θ = coor[2]\n",
    "        x = ρ * cos(θ) + displacement\n",
    "        y = ρ * sin(θ) + displacement\n",
    "        Z(n, m, ρ, θ) * exp(-x^2/σ1^2 - y^2/σ2^2) * ρ\n",
    "    end\n",
    "    rtn\n",
    "end"
   ]
  },
  {
   "cell_type": "code",
   "execution_count": 38,
   "metadata": {},
   "outputs": [
    {
     "data": {
      "text/plain": [
       "cond_eval (generic function with 1 method)"
      ]
     },
     "execution_count": 38,
     "metadata": {},
     "output_type": "execute_result"
    }
   ],
   "source": [
    "function neumann(m)\n",
    "    if m == 0\n",
    "        2\n",
    "    else \n",
    "        1\n",
    "    end\n",
    "end\n",
    "function cond_eval(n, m)\n",
    "    if -n ≤ m ≤ n\n",
    "        (2*n+2)/(π*neumann(m)) * hcubature(integrand(n, m), [0., 0.], [1., 2*π], maxevals=10000)[1]\n",
    "    else\n",
    "        0\n",
    "    end\n",
    "end"
   ]
  },
  {
   "cell_type": "code",
   "execution_count": 39,
   "metadata": {},
   "outputs": [
    {
     "ename": "LoadError",
     "evalue": "InterruptException:",
     "output_type": "error",
     "traceback": [
      "InterruptException:",
      "",
      "Stacktrace:",
      " [1] #17 at /home/ampolloreno/.julia/packages/Cubature/5zwuu/src/Cubature.jl:215 [inlined]",
      " [2] disable_sigint(::Cubature.var\"#17#18\"{Bool,Bool,Int64,Float64,Int64,Int64,Int32,Int64,Array{Float64,1},Array{Float64,1},Array{Float64,1},Array{Float64,1},Cubature.IntegrandData{var\"#rtn#63\"{Int64,Int64}},Ptr{Nothing}}) at ./c.jl:446",
      " [3] cubature(::Bool, ::Bool, ::Bool, ::Bool, ::Int64, ::var\"#rtn#63\"{Int64,Int64}, ::Array{Float64,1}, ::Array{Float64,1}, ::Float64, ::Int64, ::Int64, ::Int32) at /home/ampolloreno/.julia/packages/Cubature/5zwuu/src/Cubature.jl:169",
      " [4] #hcubature#22 at /home/ampolloreno/.julia/packages/Cubature/5zwuu/src/Cubature.jl:230 [inlined]",
      " [5] cond_eval(::Int64, ::Int64) at ./In[38]:10",
      " [6] #126 at ./none:0 [inlined]",
      " [7] iterate at ./generator.jl:47 [inlined]",
      " [8] collect_to!(::Array{Float64,1}, ::Base.Generator{StepRange{Int64,Int64},var\"#126#129\"{Int64}}, ::Int64, ::Int64) at ./array.jl:732",
      " [9] collect_to_with_first! at ./array.jl:710 [inlined]",
      " [10] collect(::Base.Generator{StepRange{Int64,Int64},var\"#126#129\"{Int64}}) at ./array.jl:691",
      " [11] (::var\"#124#127\")(::Int64) at ./none:0",
      " [12] iterate at ./generator.jl:47 [inlined]",
      " [13] collect(::Base.Generator{StepRange{Int64,Int64},var\"#124#127\"}) at ./array.jl:686",
      " [14] top-level scope at In[39]:2",
      " [15] include_string(::Function, ::Module, ::String, ::String) at ./loading.jl:1091"
     ]
    }
   ],
   "source": [
    "maxn=100\n",
    "coeffs1 = [sum([c[1]^2 for c in [cond_eval(n, m) for n in range(0, maxn, step=1)]]) for m in range(0, maxn, step=1)];\n",
    "coeffs2 = [sum([c[1]^2 for c in [cond_eval(n, m) for n in range(0, maxn, step=1)]]) for m in range(-maxn, 0, step=1)];"
   ]
  },
  {
   "cell_type": "code",
   "execution_count": null,
   "metadata": {
    "scrolled": false
   },
   "outputs": [],
   "source": [
    "using Plots\n",
    "gr()\n",
    "maxn = 20\n",
    "\n",
    "data = hcat([[c[1] for c in [cond_eval(n, m) for n in range(0, 3*maxn, step=1)]] for m in range(0, maxn, step=1)]...);"
   ]
  },
  {
   "cell_type": "code",
   "execution_count": null,
   "metadata": {},
   "outputs": [],
   "source": [
    "heatmap(data)"
   ]
  },
  {
   "cell_type": "code",
   "execution_count": null,
   "metadata": {},
   "outputs": [],
   "source": [
    "using Plots\n",
    "gr()\n",
    "dataodd = hcat([[c[1] for c in [cond_eval(n, -m) for n in range(0, 3*maxn, step=1)]] for m in range(0, maxn, step=1)]...);"
   ]
  },
  {
   "cell_type": "code",
   "execution_count": null,
   "metadata": {},
   "outputs": [],
   "source": [
    "heatmap(dataodd)"
   ]
  },
  {
   "cell_type": "code",
   "execution_count": null,
   "metadata": {},
   "outputs": [],
   "source": []
  }
 ],
 "metadata": {
  "kernelspec": {
   "display_name": "Julia 1.5.1",
   "language": "julia",
   "name": "julia-1.5"
  },
  "language_info": {
   "file_extension": ".jl",
   "mimetype": "application/julia",
   "name": "julia",
   "version": "1.5.1"
  }
 },
 "nbformat": 4,
 "nbformat_minor": 4
}
