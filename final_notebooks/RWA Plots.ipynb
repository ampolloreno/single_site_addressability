{
 "cells": [
  {
   "cell_type": "code",
   "execution_count": null,
   "metadata": {},
   "outputs": [],
   "source": [
    "function besselsum(p, q, θ)\n",
    "    ret = besselj(0, p)*besselj(-1, q)*cos(θ)\n",
    "    i = 1\n",
    "    nextterm = 1\n",
    "    while i < 100\n",
    "        nextterm = besselterm(i, p, q, θ)\n",
    "        i += 1\n",
    "        ret += nextterm\n",
    "    end\n",
    "    ret\n",
    "end\n",
    "\n",
    "function besselterm(n, p, q, θ)\n",
    "    besselj(n, p)*besselj(-(n+1), q)*cos(n*π/2 + θ) + besselj(-n, p)*besselj(n-1, q)*cos(-n*π/2 + θ) #?\n",
    "end"
   ]
  },
  {
   "cell_type": "code",
   "execution_count": null,
   "metadata": {},
   "outputs": [],
   "source": [
    "using SpecialFunctions\n",
    "using QuantumOptics\n",
    "\n",
    "function fidelity(ρ, σ)\n",
    "    tr(sqrt(sqrt(ρ) * σ * sqrt(ρ)))^(1/2)\n",
    "end\n",
    "\n",
    "function R(n::Int64, m::Int64, ρ::Float64)\n",
    "    if (n - m) % 2 != 0\n",
    "        0\n",
    "    else\n",
    "        function summand(k)\n",
    "            n = big(n)\n",
    "            k = big(k)\n",
    "            (-1)^k * factorial(n-k)/(factorial(k)*factorial(Int((n+m)/2) - k)*factorial(Int((n-m)/2) - k))*(ρ)^(n-2*k)\n",
    "        end\n",
    "        mapreduce(summand, +, Array(range(0, stop=Int((n-m)/2), step=1)))\n",
    "    end\n",
    "end\n",
    "\n",
    "function plot_across_unit_disk(f, discretization)\n",
    "    x = y = Array(range(-1, 1, length=discretization))\n",
    "    z = Array{typeof(f(0.,0.))}(UndefInitializer(), length(x), length(y))\n",
    "    for (i, xx) in enumerate(x)\n",
    "        for (j, yy) in enumerate(y)\n",
    "            if xx^2 + yy^2 > 1\n",
    "                if typeof(f(0.,0.)) == Tuple{Float64,Float64}\n",
    "                    z[i, j] = (0.,0.)\n",
    "                else\n",
    "                    z[i, j] = 0.\n",
    "                end\n",
    "            else\n",
    "                ρ = sqrt(xx^2 + yy^2)\n",
    "                ϕ = atan(yy, xx)\n",
    "                res = f(ρ, ϕ)\n",
    "                z[i, j] = res\n",
    "            end\n",
    "        end\n",
    "    end\n",
    "    x, y, z\n",
    "end\n",
    "\n",
    "function unpack_zernike(zernike_coefficients_even, zernike_coefficients_odd, ρ, ω, t)\n",
    "    \"\"\"Each Zernike array is of arbitrary length, but they are ordered by order. The first is Z00 to Zn0 where\n",
    "    n is the number of 0th order zernike polynomials being considered.\"\"\"\n",
    "    Pevens = []\n",
    "    eventuples = []\n",
    "    for (n, zeven) in enumerate(zernike_coefficients_even)\n",
    "        neven = n - 1\n",
    "        # THERE WAS A BUG IN THE LEGNTH(ZEVEN). IT SHOULD BE RIGHT NOW.\n",
    "        push!(Pevens, [zeven[i] * R(neven, i-1, ρ) for i in Array(range(1, length(zeven), step=1))])\n",
    "    end\n",
    "    for i in range(1, length(Pevens), step=1)\n",
    "        rotationeven = - (i - 1) * ω * t\n",
    "        total = 0\n",
    "        for peven in Pevens\n",
    "            if length(peven) >= i\n",
    "                total += peven[i]\n",
    "            end\n",
    "        end    \n",
    "        push!(eventuples, (i - 1, total, rotationeven))\n",
    "    end\n",
    "\n",
    "    Podds = []\n",
    "    oddtuples = []\n",
    "    for (n, zodd) in enumerate(zernike_coefficients_odd)\n",
    "        nodd = n - 1\n",
    "        push!(Podds, [zodd[i] * R(nodd, i-1, ρ) for i in Array(range(1, length(zodd), step=1))])\n",
    "    end\n",
    "    for i in range(1, length(Podds), step=1)\n",
    "        rotationodd = - (i - 1) * ω * t\n",
    "        total = 0\n",
    "        for podd in Podds\n",
    "            if length(podd) >= i\n",
    "                total += podd[i]\n",
    "            end\n",
    "        end    \n",
    "        push!(oddtuples, (i - 1, total, rotationodd))\n",
    "    end\n",
    "    eventuples, oddtuples\n",
    "end\n",
    "\n",
    "toarray(s::Union{Set, Array}) = [toarray.(s)...]\n",
    "toarray(v::Number) = v"
   ]
  },
  {
   "cell_type": "code",
   "execution_count": null,
   "metadata": {},
   "outputs": [],
   "source": [
    "function H_odf(ρ, ϕ, t, zernike_coefficients_even, zernike_coefficients_odd, U, ψ, μ, ω)\n",
    "    eventuples, oddtuples = unpack_zernike(zernike_coefficients_even, zernike_coefficients_odd, ρ, ω, t)\n",
    "    eventerm = oddterm = 0\n",
    "    if length(eventuples) > 0\n",
    "        eventerm = mapreduce(x->x[2]*cos(x[1]*ϕ + x[3]), +, eventuples)\n",
    "    end\n",
    "    if length(oddtuples) > 0\n",
    "        oddterm = mapreduce(x->x[2]*sin(x[1]*ϕ + x[3]), +, oddtuples)\n",
    "    end\n",
    "    U * cos(-μ*t + ψ + eventerm + oddterm) \n",
    "end"
   ]
  },
  {
   "cell_type": "code",
   "execution_count": null,
   "metadata": {},
   "outputs": [],
   "source": [
    "function H_odf_RWA(ρ, ϕ, t, zernike_coefficients_even, zernike_coefficients_odd, U, ψ, ω, m)\n",
    "    if length(zernike_coefficients_even) > m\n",
    "        zernike_coefficients_even = vcat([[0] for _ in range(1, m, step=1)], [zernike_coefficients_even[m + 1]])\n",
    "    else\n",
    "        zernike_coefficients_even = []\n",
    "    end\n",
    "    if length(zernike_coefficients_odd) > m\n",
    "        zernike_coefficients_odd = vcat([[0] for _ in range(1, m, step=1)], [zernike_coefficients_odd[m + 1]])\n",
    "    else\n",
    "        zernike_coefficients_odd = []\n",
    "    end\n",
    "    eventuples, oddtuples = unpack_zernike(zernike_coefficients_even, zernike_coefficients_odd, ρ, ω, t) \n",
    "    p = q = 0\n",
    "    if length(eventuples) > 0\n",
    "        p = eventuples[length(eventuples)][2]\n",
    "    end\n",
    "    if length(oddtuples) > 0\n",
    "        q = oddtuples[length(oddtuples)][2]\n",
    "    end\n",
    "    U * besselsum(p, q, -m * ϕ + ψ)\n",
    "end     "
   ]
  },
  {
   "cell_type": "code",
   "execution_count": null,
   "metadata": {},
   "outputs": [],
   "source": [
    "Γ = 1/62\n",
    "ω = 2*π*43.8E3\n",
    "U = 2*π*10E3\n",
    "θ = 0.;\n",
    "b = SpinBasis(1//2)\n",
    "ψ0 = 1/sqrt(2) * (spindown(b) + spinup(b))\n",
    "evolution_time = 200.0E-6\n",
    "step_size = evolution_time/1000\n",
    "T = [0.0:step_size:evolution_time;]\n",
    "zernikeeven = [[0.], [0., .25]];\n",
    "zernikeodd = [];\n",
    "order = 1\n",
    "μ = order * ω"
   ]
  },
  {
   "cell_type": "code",
   "execution_count": null,
   "metadata": {},
   "outputs": [],
   "source": [
    "ω = 2*π*43.8E3\n",
    "ρ = 1.\n",
    "ϕ = π/2\n",
    "H(t, _) = H_odf(ρ, ϕ, t, zernikeeven, zernikeodd, U, θ, μ, ω)*sigmaz(b), [sigmam(b)], [dagger(sigmam(b))]\n",
    "tout, ψ = timeevolution.master_dynamic(T, ψ0, H; rates=[Γ])\n",
    "excitationψ = ψ\n",
    "# Measure in the x basis\n",
    "excitation = Real.(expect(sigmax(b), ψ));"
   ]
  },
  {
   "cell_type": "code",
   "execution_count": null,
   "metadata": {},
   "outputs": [],
   "source": [
    "H(t, _) = H_odf_RWA(ρ, ϕ, t, zernikeeven, zernikeodd, U, θ, ω, order)*sigmaz(b), [sigmam(b)], [dagger(sigmam(b))]\n",
    "tout, ψ = timeevolution.master_dynamic(T, ψ0, H; rates=[Γ])\n",
    "\n",
    "# Measure in the x basis\n",
    "rwa = Real.(expect(sigmax(b), ψ));\n",
    "rwaψ = ψ;"
   ]
  },
  {
   "cell_type": "code",
   "execution_count": null,
   "metadata": {},
   "outputs": [],
   "source": [
    "ω = 2*π*180E3\n",
    "μ = order * ω\n",
    "H(t, _) = H_odf(ρ, ϕ, t, zernikeeven, zernikeodd, U, θ, μ, ω)*sigmaz(b), [sigmam(b)], [dagger(sigmam(b))]\n",
    "tout, ψ = timeevolution.master_dynamic(T, ψ0, H; rates=[Γ])\n",
    "excitation2ψ = ψ\n",
    "# Measure in the x basis\n",
    "excitation2 = Real.(expect(sigmax(b), ψ));"
   ]
  },
  {
   "cell_type": "code",
   "execution_count": null,
   "metadata": {},
   "outputs": [],
   "source": [
    "function fidelity(ρ, σ)\n",
    "    x = real(1 - tr(sqrt(sqrt(ρ) * σ * sqrt(ρ)))^(1/2))\n",
    "    if x < 0\n",
    "        x = 0\n",
    "    end\n",
    "    x\n",
    "end\n"
   ]
  },
  {
   "cell_type": "code",
   "execution_count": null,
   "metadata": {},
   "outputs": [],
   "source": []
  },
  {
   "cell_type": "code",
   "execution_count": null,
   "metadata": {},
   "outputs": [],
   "source": [
    "using Plots\n",
    "histogram([[log(10, real(fidelity(ψψ.data,rwaψ[i].data)))  for (i, ψψ) in enumerate(excitationψ)],[log(10,real(fidelity(ψψ.data,rwaψ[i].data)))  for (i, ψψ) in enumerate(excitation2ψ)]], bins=-6:0, xlabel=\"Log Infidelity\", labels=[\"ω=2π43.8E3\" \"ω=2π180E3\"], ylabel=\"Number of points sampled with infidelity\", title=\"Histograms of Infidelities for different ω\", fontfamily=\"Computer Modern\", alpha=.5)"
   ]
  },
  {
   "cell_type": "code",
   "execution_count": null,
   "metadata": {},
   "outputs": [],
   "source": [
    "maximum([real(fidelity(ψψ.data,rwaψ[i].data))  for (i, ψψ) in enumerate(excitationψ)])"
   ]
  },
  {
   "cell_type": "code",
   "execution_count": null,
   "metadata": {},
   "outputs": [],
   "source": [
    "maximum([real(fidelity(ψψ.data,rwaψ[i].data))  for (i, ψψ) in enumerate(excitation2ψ)])"
   ]
  },
  {
   "cell_type": "code",
   "execution_count": null,
   "metadata": {},
   "outputs": [],
   "source": [
    "plot(T, [[real(fidelity(ψψ.data,rwaψ[i].data))  for (i, ψψ) in enumerate(excitationψ)], [real(fidelity(ψψ.data,rwaψ[i].data))  for (i, ψψ) in enumerate(excitation2ψ)]])"
   ]
  },
  {
   "cell_type": "code",
   "execution_count": null,
   "metadata": {},
   "outputs": [],
   "source": [
    "using Plots\n",
    "using LaTeXStrings\n",
    "using Statistics\n",
    "#f=font(13,\"cursive\")\n",
    "#using ColorSchemes\n",
    "#Plots.scalefontsizes(1/1.25)\n",
    "plot(T*1E6, [rwa, excitation, excitation2], labels=[\"RWA\" \"ω=2π43.8E3\" \"ω=2π180E3\"], grid=false, title=\"Error from RWA\", xlabel=L\"\\textrm{Evolution Time}\\ (\\mu s)\", ylabel=L\"\\left\\langle\\sigma_x\\right\\rangle\", yguidefontsize=104, yguidefontrotation=-90,fontfamily=\"serif-roman\")"
   ]
  },
  {
   "cell_type": "code",
   "execution_count": null,
   "metadata": {},
   "outputs": [],
   "source": [
    "using Plots; pyplot()\n",
    "using LaTeXStrings\n",
    "using Statistics\n",
    "#f=font(13,\"cursive\")\n",
    "#using ColorSchemes\n",
    "plot(T*1E6, [rwa, excitation, excitation2], labels=[\"RWA\" \"ω=2π43.8E3\" \"ω=2π180E3\"], grid=false, title=\"Error from RWA\", xlabel=L\"\\mu s\", ylabel=L\"\\langle \\sigma_x\\rangle\", yguidefontrotation=-90, fontfamily=\"Computer Modern\")"
   ]
  },
  {
   "cell_type": "markdown",
   "metadata": {},
   "source": [
    "    # U versus \\omega"
   ]
  },
  {
   "cell_type": "code",
   "execution_count": null,
   "metadata": {},
   "outputs": [],
   "source": [
    "results = []\n",
    "for ω in range(2*π*43.8E3, 2*π*180E3, length=10)\n",
    "    μ = order * ω\n",
    "    H(t, _) = H_odf(ρ, ϕ, t, zernikeeven, zernikeodd, U, θ, μ, ω)*sigmaz(b), [sigmam(b)], [dagger(sigmam(b))]\n",
    "    tout, ψ = timeevolution.master_dynamic(T, ψ0, H; rates=[Γ])\n",
    "    xψ = ψ\n",
    "    push!(results, maximum([real(fidelity(ψψ.data,rwaψ[i].data))  for (i, ψψ) in enumerate(xψ)]))\n",
    "end"
   ]
  },
  {
   "cell_type": "code",
   "execution_count": null,
   "metadata": {},
   "outputs": [],
   "source": [
    "plot(range(2*π*43.8E3, 2*π*180E3, length=10), results, xlabel=\"ω\", ylabel=\"Maximum Infidelity\",grid=false,  legend=false)\n",
    "plot!(range(2*π*43.8E3, 2*π*180E3, length=10), 1E9 * 1 ./ range(2*π*43.8E3, 2*π*180E3, length=10).^2, xlabel=\"ω\", ylabel=\"Maximum Infidelity\",grid=false,  legend=false)"
   ]
  },
  {
   "cell_type": "code",
   "execution_count": null,
   "metadata": {},
   "outputs": [],
   "source": [
    "using LsqFit\n",
    "\n",
    "# a two-parameter exponential model\n",
    "# x: array of independent variables\n",
    "# p: array of model parameters\n",
    "# model(x, p) will accept the full data set as the first argument `x`.\n",
    "# This means that we need to write our model function so it applies\n",
    "# the model to the full dataset. We use `@.` to apply the calculations\n",
    "# across all rows.\n",
    "@. model(x, p) = p[1] + p[4]*1/x + p[2]*1/x^2 + p[3]*1/x^4 + p[5]*1/x^3"
   ]
  },
  {
   "cell_type": "code",
   "execution_count": null,
   "metadata": {},
   "outputs": [],
   "source": [
    "p0 = [0., 0., 0., 0., 0.]\n",
    "fit = curve_fit(model, range(2*π*43.8E3, 2*π*180E3, length=10), results, p0)"
   ]
  },
  {
   "cell_type": "code",
   "execution_count": null,
   "metadata": {},
   "outputs": [],
   "source": [
    "coef(fit)"
   ]
  },
  {
   "cell_type": "code",
   "execution_count": null,
   "metadata": {},
   "outputs": [],
   "source": [
    "p0 = [0., 0., 1.]\n",
    "fit = curve_fit(model, range(2*π*43.8E3, 2*π*180E3, length=10), results, p0)\n",
    "# fit is a composite type (LsqFitResult), with some interesting values:\n",
    "#\tdof(fit): degrees of freedom\n",
    "#\tcoef(fit): best fit parameters\n",
    "#\tfit.resid: residuals = vector of residuals\n",
    "#\tfit.jacobian: estimated Jacobian at solution\n",
    "lb = [1.1, -0.5]\n",
    "ub = [1.9, Inf]\n",
    "p0_bounds = [1.2, 1.2] # we have to start inside the bounds \n",
    "# Optional upper and/or lower bounds on the free parameters can be passed as an argument.\n",
    "# Bounded and unbouded variables can be mixed by setting `-Inf` if no lower bounds\n",
    "# is to be enforced for that variable and similarly for `+Inf`\n",
    "fit_bounds = curve_fit(model, xdata, ydata, p0_bounds, lower=lb, upper=ub)\n",
    "\n",
    "# We can estimate errors on the fit parameters,\n",
    "# to get standard error of each parameter:\n",
    "sigma = stderror(fit)\n",
    "# to get margin of error and confidence interval of each parameter at 5% significance level:\n",
    "margin_of_error = margin_error(fit, 0.05)\n",
    "confidence_inter = confidence_interval(fit, 0.05)\n",
    "\n",
    "# The finite difference method is used above to approximate the Jacobian.\n",
    "# Alternatively, a function which calculates it exactly can be supplied instead.\n",
    "function jacobian_model(x,p)\n",
    "    J = Array{Float64}(undef, length(x), length(p))\n",
    "    @. J[:,1] = exp(-x*p[2])     #dmodel/dp[1]\n",
    "    @. @views J[:,2] = -x*p[1]*J[:,1] #dmodel/dp[2], thanks to @views we don't allocate memory for the J[:,1] slice\n",
    "    J\n",
    "end\n",
    "fit = curve_fit(model, jacobian_model, xdata, ydata, p0)"
   ]
  },
  {
   "cell_type": "code",
   "execution_count": null,
   "metadata": {},
   "outputs": [],
   "source": []
  },
  {
   "cell_type": "code",
   "execution_count": null,
   "metadata": {},
   "outputs": [],
   "source": [
    "results = []\n",
    "for U in range(2*π*10E1, 2*π*10E4, length=30)   \n",
    "    evolution_time = 2*π*10E3/U * 200.0E-6\n",
    "    step_size = evolution_time/100\n",
    "    T = [0.0:step_size:evolution_time;]\n",
    "    ω = 2*π*180E3\n",
    "    μ = order * ω\n",
    "    H(t, _) = H_odf(ρ, ϕ, t, zernikeeven, zernikeodd, U, θ, μ, ω)*sigmaz(b), [sigmam(b)], [dagger(sigmam(b))]\n",
    "    tout, ψ = timeevolution.master_dynamic(T, ψ0, H; rates=[Γ])\n",
    "    xψ = ψ\n",
    "    H(t, _) = H_odf_RWA(ρ, ϕ, t, zernikeeven, zernikeodd, U, θ, ω, order)*sigmaz(b), [sigmam(b)], [dagger(sigmam(b))]\n",
    "    tout, ψ = timeevolution.master_dynamic(T, ψ0, H; rates=[Γ])\n",
    "\n",
    "    # Measure in the x basis\n",
    "    rwa = Real.(expect(sigmax(b), ψ));\n",
    "    rwaψ = ψ;\n",
    "    push!(results, maximum([real(fidelity(ψψ.data,rwaψ[i].data))  for (i, ψψ) in enumerate(xψ)]))\n",
    "end"
   ]
  },
  {
   "cell_type": "code",
   "execution_count": null,
   "metadata": {},
   "outputs": [],
   "source": [
    "plot(range(2*π*43.8E3, 2*π*180E3, length=30), results, xlabel=\"U\", ylabel=\"Maximum Infidelity\",grid=false,  legend=false)\n",
    "plot!(range(2*π*43.8E3, 2*π*180E3, length=30), .7E-13*range(2*π*43.8E3, 2*π*180E3, length=30).^2 .-.005)"
   ]
  },
  {
   "cell_type": "code",
   "execution_count": null,
   "metadata": {},
   "outputs": [],
   "source": [
    "@. model(x, p) = p[1] + p[2] * x + p[3] * x^2 + p[4] * x^4\n",
    "p0 = [1., 1., 1., 1.]\n",
    "fit = curve_fit(model, range(2*π*43.8, 2π*180, length=10)[1:end-1], 10000000*results[1:end-1], p0)"
   ]
  },
  {
   "cell_type": "code",
   "execution_count": null,
   "metadata": {},
   "outputs": [],
   "source": [
    "coef(fit)"
   ]
  },
  {
   "cell_type": "code",
   "execution_count": null,
   "metadata": {},
   "outputs": [],
   "source": []
  }
 ],
 "metadata": {
  "kernelspec": {
   "display_name": "Julia 1.5.1",
   "language": "julia",
   "name": "julia-1.5"
  },
  "language_info": {
   "file_extension": ".jl",
   "mimetype": "application/julia",
   "name": "julia",
   "version": "1.5.1"
  }
 },
 "nbformat": 4,
 "nbformat_minor": 4
}
